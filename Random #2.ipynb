{
  "nbformat": 4,
  "nbformat_minor": 0,
  "metadata": {
    "colab": {
      "provenance": [],
      "authorship_tag": "ABX9TyN48SvPvkEtRczexIIPpFmJ",
      "include_colab_link": true
    },
    "kernelspec": {
      "name": "python3",
      "display_name": "Python 3"
    },
    "language_info": {
      "name": "python"
    }
  },
  "cells": [
    {
      "cell_type": "markdown",
      "metadata": {
        "id": "view-in-github",
        "colab_type": "text"
      },
      "source": [
        "<a href=\"https://colab.research.google.com/github/TheDarkShadow-dev/Coding-Club/blob/main/Random%20%232.ipynb\" target=\"_parent\"><img src=\"https://colab.research.google.com/assets/colab-badge.svg\" alt=\"Open In Colab\"/></a>"
      ]
    },
    {
      "cell_type": "code",
      "execution_count": 3,
      "metadata": {
        "colab": {
          "base_uri": "https://localhost:8080/"
        },
        "id": "XgfvXaDQYGdZ",
        "outputId": "9eb1f5f8-3c76-4101-8823-8c684f1f05fb"
      },
      "outputs": [
        {
          "output_type": "stream",
          "name": "stdout",
          "text": [
            "Steve, He is 33 years old.\n",
            "Kevin, He is 16 years old.\n",
            "Bob, He is 79 years old.\n"
          ]
        }
      ],
      "source": [
        "names = ['Steve', 'Kevin', \"Bob\"]\n",
        "ages = [33, 16, 79]\n",
        "\n",
        "for i in range(len(names)):\n",
        "  print(f'{names[i]}, He is {ages[i]} years old.')\n",
        ""
      ]
    }
  ]
}