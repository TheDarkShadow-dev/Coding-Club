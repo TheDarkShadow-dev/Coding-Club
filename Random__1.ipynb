{
  "nbformat": 4,
  "nbformat_minor": 0,
  "metadata": {
    "colab": {
      "provenance": [],
      "authorship_tag": "ABX9TyOyrXCOFvIs8Lim83D1Yn7j",
      "include_colab_link": true
    },
    "kernelspec": {
      "name": "python3",
      "display_name": "Python 3"
    },
    "language_info": {
      "name": "python"
    }
  },
  "cells": [
    {
      "cell_type": "markdown",
      "metadata": {
        "id": "view-in-github",
        "colab_type": "text"
      },
      "source": [
        "<a href=\"https://colab.research.google.com/github/TheDarkShadow-dev/Coding-Club/blob/main/Random__1.ipynb\" target=\"_parent\"><img src=\"https://colab.research.google.com/assets/colab-badge.svg\" alt=\"Open In Colab\"/></a>"
      ]
    },
    {
      "cell_type": "code",
      "execution_count": null,
      "metadata": {
        "id": "CfDEh7pNUsQJ"
      },
      "outputs": [],
      "source": [
        "for i in range(2, 51, 2):\n",
        "  print(i)"
      ]
    },
    {
      "cell_type": "code",
      "source": [
        "end = 50\n",
        "while end >= 0:\n",
        "  print(end)\n",
        "  end -= 2"
      ],
      "metadata": {
        "id": "0JQius1KVynp"
      },
      "execution_count": null,
      "outputs": []
    }
  ]
}